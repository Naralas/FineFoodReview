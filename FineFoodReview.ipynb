{
 "cells": [
  {
   "cell_type": "markdown",
   "metadata": {},
   "source": [
    "# Fine Food Review\n",
    "\n",
    "Ludovic Herbelin, 2020"
   ]
  },
  {
   "cell_type": "markdown",
   "metadata": {},
   "source": [
    "**Goals : Predict review score from the text of the review.**"
   ]
  },
  {
   "cell_type": "code",
   "execution_count": 1,
   "metadata": {},
   "outputs": [],
   "source": [
    "import pandas as pd\n",
    "import matplotlib.pyplot as plt\n",
    "import seaborn as sns\n",
    "import nltk\n",
    "import numpy as np\n",
    "from tqdm.notebook import tqdm\n",
    "import sklearn"
   ]
  },
  {
   "cell_type": "markdown",
   "metadata": {},
   "source": [
    "## Loading data"
   ]
  },
  {
   "cell_type": "code",
   "execution_count": 2,
   "metadata": {},
   "outputs": [
    {
     "name": "stdout",
     "output_type": "stream",
     "text": [
      "60000 rows in data\n"
     ]
    }
   ],
   "source": [
    "DATASET_PATH = 'Reviews.csv'\n",
    "N_ROWS = 60000\n",
    "\n",
    "dataset = pd.read_csv(DATASET_PATH, nrows=N_ROWS)\n",
    "\n",
    "print(f\"{len(dataset)} rows in data\")"
   ]
  },
  {
   "cell_type": "code",
   "execution_count": 3,
   "metadata": {},
   "outputs": [
    {
     "data": {
      "text/html": [
       "<div>\n",
       "<style scoped>\n",
       "    .dataframe tbody tr th:only-of-type {\n",
       "        vertical-align: middle;\n",
       "    }\n",
       "\n",
       "    .dataframe tbody tr th {\n",
       "        vertical-align: top;\n",
       "    }\n",
       "\n",
       "    .dataframe thead th {\n",
       "        text-align: right;\n",
       "    }\n",
       "</style>\n",
       "<table border=\"1\" class=\"dataframe\">\n",
       "  <thead>\n",
       "    <tr style=\"text-align: right;\">\n",
       "      <th></th>\n",
       "      <th>HelpfulnessNumerator</th>\n",
       "      <th>HelpfulnessDenominator</th>\n",
       "      <th>Score</th>\n",
       "      <th>Summary</th>\n",
       "    </tr>\n",
       "  </thead>\n",
       "  <tbody>\n",
       "    <tr>\n",
       "      <th>0</th>\n",
       "      <td>1</td>\n",
       "      <td>1</td>\n",
       "      <td>5</td>\n",
       "      <td>Good Quality Dog Food</td>\n",
       "    </tr>\n",
       "    <tr>\n",
       "      <th>1</th>\n",
       "      <td>0</td>\n",
       "      <td>0</td>\n",
       "      <td>1</td>\n",
       "      <td>Not as Advertised</td>\n",
       "    </tr>\n",
       "    <tr>\n",
       "      <th>2</th>\n",
       "      <td>1</td>\n",
       "      <td>1</td>\n",
       "      <td>4</td>\n",
       "      <td>\"Delight\" says it all</td>\n",
       "    </tr>\n",
       "    <tr>\n",
       "      <th>3</th>\n",
       "      <td>3</td>\n",
       "      <td>3</td>\n",
       "      <td>2</td>\n",
       "      <td>Cough Medicine</td>\n",
       "    </tr>\n",
       "    <tr>\n",
       "      <th>4</th>\n",
       "      <td>0</td>\n",
       "      <td>0</td>\n",
       "      <td>5</td>\n",
       "      <td>Great taffy</td>\n",
       "    </tr>\n",
       "  </tbody>\n",
       "</table>\n",
       "</div>"
      ],
      "text/plain": [
       "   HelpfulnessNumerator  HelpfulnessDenominator  Score                Summary\n",
       "0                     1                       1      5  Good Quality Dog Food\n",
       "1                     0                       0      1      Not as Advertised\n",
       "2                     1                       1      4  \"Delight\" says it all\n",
       "3                     3                       3      2         Cough Medicine\n",
       "4                     0                       0      5            Great taffy"
      ]
     },
     "execution_count": 3,
     "metadata": {},
     "output_type": "execute_result"
    }
   ],
   "source": [
    "df = dataset.copy()\n",
    "df = df.drop(columns=['Id','ProductId', 'UserId', 'ProfileName', 'Time', 'Text'])\n",
    "feature_column = 'Summary'\n",
    "\n",
    "df.dropna(inplace=True)\n",
    "df.head()"
   ]
  },
  {
   "cell_type": "markdown",
   "metadata": {},
   "source": [
    "### Remove the neutral reviews"
   ]
  },
  {
   "cell_type": "code",
   "execution_count": 4,
   "metadata": {},
   "outputs": [],
   "source": [
    "# depending on our goals we might want to remove neutral reviews (IE score of 3)\n",
    "REMOVE_NEUTRAL = False\n",
    "\n",
    "if REMOVE_NEUTRAL:\n",
    "    df = df[df.Score != 3]\n",
    "    print(f\"{len(df)} rows left\")"
   ]
  },
  {
   "cell_type": "markdown",
   "metadata": {},
   "source": [
    "### Remove reviews below certain threshold"
   ]
  },
  {
   "cell_type": "code",
   "execution_count": 5,
   "metadata": {},
   "outputs": [
    {
     "name": "stdout",
     "output_type": "stream",
     "text": [
      "54713 rows left\n"
     ]
    }
   ],
   "source": [
    "HELPFULNESS_THRESH_RATIO = 2\n",
    "\n",
    "# numerator of helpfulness score must be higher or equal than X times denominator\n",
    "df = df[df.HelpfulnessNumerator * HELPFULNESS_THRESH_RATIO >= df.HelpfulnessDenominator]\n",
    "print(f\"{len(df)} rows left\")"
   ]
  },
  {
   "cell_type": "markdown",
   "metadata": {},
   "source": [
    "### Plot class distribution"
   ]
  },
  {
   "cell_type": "code",
   "execution_count": 6,
   "metadata": {},
   "outputs": [
    {
     "data": {
      "image/png": "[encoded data removed]",
      "text/plain": [
       "<Figure size 432x288 with 1 Axes>"
      ]
     },
     "metadata": {
      "needs_background": "light"
     },
     "output_type": "display_data"
    }
   ],
   "source": [
    "ax = df['Score'].plot.hist(bins=5)"
   ]
  },
  {
   "cell_type": "markdown",
   "metadata": {},
   "source": [
    "## Dataset preprocessing"
   ]
  },
  {
   "cell_type": "code",
   "execution_count": 7,
   "metadata": {},
   "outputs": [],
   "source": [
    "X = df.loc[:, df.columns != 'Score']\n",
    "Y = df['Score']"
   ]
  },
  {
   "cell_type": "code",
   "execution_count": 8,
   "metadata": {},
   "outputs": [
    {
     "name": "stdout",
     "output_type": "stream",
     "text": [
      "Train size : 43770, test set size : 10943\n"
     ]
    }
   ],
   "source": [
    "from sklearn.model_selection import train_test_split\n",
    "TRAIN_RATIO = 0.8\n",
    "\n",
    "X_train, X_test, Y_train, Y_test = train_test_split(X, Y, stratify=Y, train_size=TRAIN_RATIO, random_state=42)\n",
    "\n",
    "print(f\"Train size : {len(Y_train)}, test set size : {len(Y_test)}\")"
   ]
  },
  {
   "cell_type": "markdown",
   "metadata": {},
   "source": [
    "### Text preprocessing\n",
    "\n",
    "Helper class for preprocessing the text : remove stopwords, punctuation etc."
   ]
  },
  {
   "cell_type": "code",
   "execution_count": 9,
   "metadata": {},
   "outputs": [
    {
     "name": "stdout",
     "output_type": "stream",
     "text": [
      "good qualiti dog food\n"
     ]
    },
    {
     "name": "stderr",
     "output_type": "stream",
     "text": [
      "[nltk_data] Downloading package stopwords to\n",
      "[nltk_data]     C:\\Users\\Ludovic\\AppData\\Roaming\\nltk_data...\n",
      "[nltk_data]   Package stopwords is already up-to-date!\n",
      "[nltk_data] Downloading package punkt to\n",
      "[nltk_data]     C:\\Users\\Ludovic\\AppData\\Roaming\\nltk_data...\n",
      "[nltk_data]   Package punkt is already up-to-date!\n"
     ]
    }
   ],
   "source": [
    "from nltk.stem import SnowballStemmer \n",
    "from nltk.tokenize import word_tokenize \n",
    "from nltk.corpus import stopwords\n",
    "\n",
    "\n",
    "class TextProcessor:\n",
    "    def __init__(self, language='english', remove_stopwords = True, perform_stemming = True):\n",
    "        \"\"\" init functions, load the stopwords and punkt for tokenizer\n",
    "        Keywords args :\n",
    "        language -- 'english' or other\n",
    "        remove_stopwords -- If true, will perform stopwords removal\n",
    "        perform_stemming -- If true, will stem the words\n",
    "        \"\"\"\n",
    "        nltk.download('stopwords')\n",
    "        nltk.download('punkt')\n",
    "        self.perform_stemming = perform_stemming\n",
    "        if(self.perform_stemming):\n",
    "            self.stemmer = SnowballStemmer(language)\n",
    "        self.remove_stopwords = remove_stopwords\n",
    "        if(self.remove_stopwords):\n",
    "            self.stopwords = set(stopwords.words(language))  \n",
    "\n",
    "    def __stem_word__(self, word):\n",
    "        return self.stemmer.stem(word)\n",
    "\n",
    "    def __tokenize_text__(self, text):\n",
    "        return word_tokenize(text)\n",
    "\n",
    "\n",
    "    def preprocess_text(self, text):\n",
    "        \"\"\"Set the words in the text to lowercase, remove the stop words and punctuation if set to true at init\"\"\"\n",
    "        words = self.__tokenize_text__(text)\n",
    "        \n",
    "        # set words to lowercase and remove punctuation\n",
    "        words = [word.lower() for word in words if word.isalpha()]\n",
    "        if self.perform_stemming:\n",
    "            words = [self.__stem_word__(word) for word in words]\n",
    "        if self.remove_stopwords:\n",
    "            words = list(filter(lambda w: w not in self.stopwords, words))\n",
    "        \n",
    "        return ' '.join(words)\n",
    "\n",
    "tp = TextProcessor(remove_stopwords=True, perform_stemming=True)\n",
    "print(tp.preprocess_text(df[feature_column][0]))"
   ]
  },
  {
   "cell_type": "markdown",
   "metadata": {},
   "source": [
    "### Preparing data for training the models"
   ]
  },
  {
   "cell_type": "code",
   "execution_count": 10,
   "metadata": {},
   "outputs": [
    {
     "name": "stderr",
     "output_type": "stream",
     "text": [
      "e:\\documents\\school\\swisscom_assignment\\finefoodreview\\venv\\lib\\site-packages\\pandas\\core\\indexing.py:659: SettingWithCopyWarning: \n",
      "A value is trying to be set on a copy of a slice from a DataFrame.\n",
      "Try using .loc[row_indexer,col_indexer] = value instead\n",
      "\n",
      "See the caveats in the documentation: https://pandas.pydata.org/pandas-docs/stable/user_guide/indexing.html#returning-a-view-versus-a-copy\n",
      "  self.obj[k] = np.nan\n",
      "e:\\documents\\school\\swisscom_assignment\\finefoodreview\\venv\\lib\\site-packages\\pandas\\core\\indexing.py:1743: SettingWithCopyWarning: \n",
      "A value is trying to be set on a copy of a slice from a DataFrame.\n",
      "Try using .loc[row_indexer,col_indexer] = value instead\n",
      "\n",
      "See the caveats in the documentation: https://pandas.pydata.org/pandas-docs/stable/user_guide/indexing.html#returning-a-view-versus-a-copy\n",
      "  isetter(ilocs[0], value)\n"
     ]
    }
   ],
   "source": [
    "feature_column_cleanup = feature_column + '_cleanup'\n",
    "# apply preprocessing operations on the text\n",
    "def prepare_text(data, feature_column):\n",
    "    data.loc[:, [feature_column_cleanup]] = data[feature_column].apply(tp.preprocess_text)\n",
    "    return data\n",
    "    \n",
    "\n",
    "X_train = prepare_text(X_train, feature_column)\n",
    "X_test = prepare_text(X_test, feature_column)\n",
    "\n",
    "feature_column = feature_column_cleanup"
   ]
  },
  {
   "cell_type": "markdown",
   "metadata": {},
   "source": [
    "### Transform textual data to TFIDF"
   ]
  },
  {
   "cell_type": "code",
   "execution_count": 11,
   "metadata": {},
   "outputs": [
    {
     "name": "stdout",
     "output_type": "stream",
     "text": [
      "(43770, 7309)\n",
      "(10943, 7309)\n"
     ]
    }
   ],
   "source": [
    "from sklearn.feature_extraction.text import CountVectorizer, TfidfTransformer\n",
    "\n",
    "# bag of words + tfidf on text\n",
    "vectorizer = CountVectorizer()\n",
    "transformer = TfidfTransformer()\n",
    "\n",
    "X_train_counts = vectorizer.fit_transform(X_train[feature_column_cleanup])\n",
    "X_train_tfidf = transformer.fit_transform(X_train_counts)\n",
    "\n",
    "X_test_counts = vectorizer.transform(X_test[feature_column_cleanup])\n",
    "X_test_tfidf = transformer.transform(X_test_counts)\n",
    "\n",
    "print(X_train_tfidf.shape)\n",
    "print(X_test_tfidf.shape)"
   ]
  },
  {
   "cell_type": "markdown",
   "metadata": {},
   "source": [
    "## Classification"
   ]
  },
  {
   "cell_type": "markdown",
   "metadata": {},
   "source": [
    "### Grid search"
   ]
  },
  {
   "cell_type": "code",
   "execution_count": 12,
   "metadata": {},
   "outputs": [],
   "source": [
    "from sklearn.linear_model import LogisticRegression\n",
    "from sklearn.naive_bayes import MultinomialNB\n",
    "from sklearn.ensemble import RandomForestClassifier\n",
    "from sklearn.svm import LinearSVC"
   ]
  },
  {
   "cell_type": "code",
   "execution_count": 13,
   "metadata": {},
   "outputs": [
    {
     "name": "stdout",
     "output_type": "stream",
     "text": [
      "Best Score: 0.7050491204021019\n",
      "Best Hyperparameters: {'C': 1.0, 'max_iter': 1000000.0, 'penalty': 'l2'}\n"
     ]
    }
   ],
   "source": [
    "from sklearn.model_selection import GridSearchCV\n",
    "\n",
    "COMPUTE_GRID_SEARCH = True\n",
    "\n",
    "if COMPUTE_GRID_SEARCH:\n",
    "    parameters = {'max_iter':[1e6], 'penalty': ('l1', 'l2'), 'C': [1e-5, 1e-3, 1.0]}\n",
    "    lr = LogisticRegression()\n",
    "    \n",
    "    clf = GridSearchCV(lr, parameters, n_jobs=6)\n",
    "    clf.fit(X_train_tfidf, Y_train)\n",
    "\n",
    "    print('Best Score: %s' % clf.best_score_)\n",
    "    print('Best Hyperparameters: %s' % clf.best_params_)"
   ]
  },
  {
   "cell_type": "markdown",
   "metadata": {},
   "source": [
    "### Models definition"
   ]
  },
  {
   "cell_type": "code",
   "execution_count": 14,
   "metadata": {},
   "outputs": [],
   "source": [
    "models_dict = {\n",
    "    'LogisticRegression': LogisticRegression(max_iter=100000, C=1.0, penalty='l2'),\n",
    "    'RandomForest': RandomForestClassifier(n_estimators=200, max_depth=3, random_state=0),\n",
    "    'MultinomialNB': MultinomialNB(),\n",
    "    'SVC':LinearSVC()\n",
    "}"
   ]
  },
  {
   "cell_type": "markdown",
   "metadata": {},
   "source": [
    "### Metrics"
   ]
  },
  {
   "cell_type": "code",
   "execution_count": 15,
   "metadata": {},
   "outputs": [],
   "source": [
    "from sklearn.metrics import accuracy_score\n",
    "from sklearn.metrics import f1_score\n",
    "\n",
    "def compute_metrics(model, X, Y):\n",
    "    metrics_dict = {}\n",
    "    y_pred = model.predict(X)\n",
    "    metrics_dict['f1'] = f1_score(Y, y_pred, average='macro')\n",
    "    metrics_dict['accuracy'] = accuracy_score(Y, y_pred)\n",
    "    \n",
    "    return metrics_dict"
   ]
  },
  {
   "cell_type": "code",
   "execution_count": 16,
   "metadata": {},
   "outputs": [
    {
     "name": "stdout",
     "output_type": "stream",
     "text": [
      "{'LogisticRegression': {'f1': 0.3850247568087421, 'accuracy': 0.7056565841177008}, 'RandomForest': {'f1': 0.1592034327208714, 'accuracy': 0.6611532486521063}, 'MultinomialNB': {'f1': 0.3116031242136629, 'accuracy': 0.6953303481677785}, 'SVC': {'f1': 0.39050214723999926, 'accuracy': 0.6978890615005026}}\n"
     ]
    }
   ],
   "source": [
    "models_results = {}\n",
    "\n",
    "for label, model in models_dict.items():\n",
    "    # fit and test the model\n",
    "    model.fit(X_train_tfidf, Y_train)\n",
    "    models_results[label] = compute_metrics(model, X_test_tfidf, Y_test)\n",
    "    \n",
    "print(models_results)"
   ]
  },
  {
   "cell_type": "markdown",
   "metadata": {},
   "source": [
    "### Plot metrics"
   ]
  },
  {
   "cell_type": "code",
   "execution_count": 17,
   "metadata": {},
   "outputs": [
    {
     "data": {
      "image/png": "[encoded data removed]",
      "text/plain": [
       "<Figure size 432x288 with 1 Axes>"
      ]
     },
     "metadata": {},
     "output_type": "display_data"
    }
   ],
   "source": [
    "sns.set_theme()\n",
    "\n",
    "def plot_bar(results_dict, title, ylabel):\n",
    "    plt.bar(results_dict.keys(), results_dict.values())\n",
    "    plt.ylabel(ylabel)\n",
    "    plt.title(title)\n",
    "    plt.xticks(rotation=30)\n",
    "    plt.ylim((0,1))\n",
    "    plt.show()\n",
    "\n",
    "metrics_dict = {}\n",
    "\n",
    "for label, results in models_results.items():\n",
    "    for metric, val in results.items():\n",
    "        metrics_dict[f\"{label}_{metric}\"] = val\n",
    "        \n",
    "plot_bar(metrics_dict, \"Accuracies and F1 plots for score prediction\", \"Metric value\")"
   ]
  },
  {
   "cell_type": "markdown",
   "metadata": {},
   "source": [
    "### Print the most important words for each score"
   ]
  },
  {
   "cell_type": "code",
   "execution_count": 18,
   "metadata": {},
   "outputs": [
    {
     "name": "stdout",
     "output_type": "stream",
     "text": [
      "[Score = 1] : ['ruin', 'china', 'rip', 'terribl', 'nasti', 'yuck', 'worst', 'disgust', 'horribl', 'aw']\n",
      "[Score = 2] : ['togeth', 'blah', 'eh', 'bland', 'weak', 'kettl', 'wo', 'poor', 'meh', 'disappoint']\n",
      "[Score = 3] : ['mild', 'meh', 'alright', 'iffi', 'decent', 'unremark', 'short', 'averag', 'okay', 'ok']\n",
      "[Score = 4] : ['good', 'love', 'refresh', 'excel', 'pretti', 'great', 'delici', 'nice', 'tasti', 'yummi']\n",
      "[Score = 5] : ['fantast', 'wonder', 'amaz', 'awesom', 'love', 'delici', 'perfect', 'great', 'best', 'excel']\n"
     ]
    }
   ],
   "source": [
    "TOP_N_WORDS = 10\n",
    "\n",
    "def get_top_words_score(clf, TOP_N):\n",
    "    feature_names = vectorizer.get_feature_names()\n",
    "    top_words = {}\n",
    "    for i, score in enumerate(set(Y_test)):\n",
    "        # get the TOP_N sorted (desc) by their coefficient of importance in the classifier\n",
    "        top = np.argsort(clf.coef_[i])[-TOP_N_WORDS:]\n",
    "        top_words[score] = list(feature_names[word_id] for word_id in top)\n",
    "        \n",
    "    return top_words\n",
    "\n",
    "top_words = get_top_words_score(models_dict['LogisticRegression'], TOP_N = TOP_N_WORDS)\n",
    "for score, words in top_words.items():\n",
    "    print(f\"[Score = {score}] : {words}\")"
   ]
  }
 ],
 "metadata": {
  "kernelspec": {
   "display_name": "Python 3",
   "language": "python",
   "name": "python3"
  },
  "language_info": {
   "codemirror_mode": {
    "name": "ipython",
    "version": 3
   },
   "file_extension": ".py",
   "mimetype": "text/x-python",
   "name": "python",
   "nbconvert_exporter": "python",
   "pygments_lexer": "ipython3",
   "version": "3.7.0"
  }
 },
 "nbformat": 4,
 "nbformat_minor": 4
}
